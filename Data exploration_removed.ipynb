{
 "metadata": {
  "anaconda-cloud": {},
  "kernelspec": {
   "display_name": "Python [Root]",
   "language": "python",
   "name": "Python [Root]"
  },
  "language_info": {
   "codemirror_mode": {
    "name": "ipython",
    "version": 2
   },
   "file_extension": ".py",
   "mimetype": "text/x-python",
   "name": "python",
   "nbconvert_exporter": "python",
   "pygments_lexer": "ipython2",
   "version": "2.7.12"
  },
  "name": ""
 },
 "nbformat": 3,
 "nbformat_minor": 0,
 "worksheets": [
  {
   "cells": [
    {
     "cell_type": "code",
     "collapsed": false,
     "input": [
      "import numpy as np\n",
      "import os\n",
      "import pandas as pd\n",
      "from lxml import etree\n",
      "import matplotlib.pyplot as plt\n",
      "import xml.etree.ElementTree as ET\n",
      "%matplotlib inline\n",
      "\n",
      "import re"
     ],
     "language": "python",
     "metadata": {},
     "outputs": [],
     "prompt_number": 1
    },
    {
     "cell_type": "heading",
     "level": 2,
     "metadata": {},
     "source": [
      "Clean the input file"
     ]
    },
    {
     "cell_type": "code",
     "collapsed": false,
     "input": [
      "fileout = open(\"ISR_clean2.xml\", \"w\")\n",
      "with open(\"Ischemic Stroke text notes_2322.xml\") as filein:\n",
      "    for char in filein.read():\n",
      "        if char is \"<\":\n",
      "            fileout.write(\"<\")\n",
      "        elif char is \">\":\n",
      "            fileout.write(\">\\n\")\n",
      "        elif char == \"\\n\":\n",
      "            fileout.write(\"\")\n",
      "        else:\n",
      "            fileout.write(char)\n",
      "fileout.close()"
     ],
     "language": "python",
     "metadata": {},
     "outputs": [],
     "prompt_number": null
    },
    {
     "cell_type": "heading",
     "level": 2,
     "metadata": {},
     "source": [
      "Make the dataframe"
     ]
    },
    {
     "cell_type": "code",
     "collapsed": true,
     "input": [
      "class Record(object):\n",
      "    \n",
      "    def __init__(self, crnt_mrn, encntr_id, fin_nbr_txt, event_cd, event_label, txt):\n",
      "        \n",
      "        self.crnt_mrn = crnt_mrn\n",
      "        self.encntr_id = encntr_id\n",
      "        self.fin_nbr_txt = fin_nbr_txt\n",
      "        self.event_cd = event_cd\n",
      "        self.event_label = event_label\n",
      "        #self.event_tag = event_tag\n",
      "        #self.event_end_dt = event_end_dt\n",
      "        self.text = txt"
     ],
     "language": "python",
     "metadata": {},
     "outputs": [],
     "prompt_number": 2
    },
    {
     "cell_type": "code",
     "collapsed": false,
     "input": [
      "filein = open(\"ISR_clean2.xml\", \"r\")\n",
      "num_reports = 0\n",
      "records = []\n",
      "for line in filein:\n",
      "    try :\n",
      "        report = ET.fromstring(line)\n",
      "    except:\n",
      "        print num_reports\n",
      "    num_reports += 1\n",
      "    crnt_mrn = report.get(\"crnt_mrn\")\n",
      "    encntr_id = report.get(\"encntr_id\")\n",
      "    fin_nbr_txt = report.get(\"fin_nbr_txt\")\n",
      "    event_cd = report.get(\"event_cd\")\n",
      "    event_label = report.get(\"event_label\")\n",
      "    #event_tag = report.get(\"event_tag\")\n",
      "    #event_end_dt = report.get(\"event_end_dt_tm\")\n",
      "    text = report.get(\"contents_plain_txt\")\n",
      "    record = Record(crnt_mrn, encntr_id, fin_nbr_txt, event_cd, event_label, text)\n",
      "    records.append(record)\n",
      "print \"Total number of reports \", num_reports\n",
      "print \"Sanity check \",len(records)"
     ],
     "language": "python",
     "metadata": {},
     "outputs": [],
     "prompt_number": 3
    },
    {
     "cell_type": "code",
     "collapsed": true,
     "input": [
      "'''num_reports = 0\n",
      "records = []\n",
      "for child in ISR_doc.iter(\"{Ischemic_x0020_Stroke_x0020_Registry-NLP_x0020_project}Detail\"):\n",
      "    num_reports += 1\n",
      "    crnt_mrn = child.findtext(\"{Ischemic_x0020_Stroke_x0020_Registry-NLP_x0020_project}crnt_mrn\").strip()\n",
      "    encntr_id = child.findtext(\"{Ischemic_x0020_Stroke_x0020_Registry-NLP_x0020_project}encntr_id\").strip()\n",
      "    fin_nbr_txt = child.findtext(\"{Ischemic_x0020_Stroke_x0020_Registry-NLP_x0020_project}fin_nbr_txt\").strip()\n",
      "    event_cd = child.findtext(\"{Ischemic_x0020_Stroke_x0020_Registry-NLP_x0020_project}event_cd\").strip()\n",
      "    event_label = child.findtext(\"{Ischemic_x0020_Stroke_x0020_Registry-NLP_x0020_project}event_label\").strip()\n",
      "    event_tag = child.findtext(\"{Ischemic_x0020_Stroke_x0020_Registry-NLP_x0020_project}event_tag\").strip()\n",
      "    event_end_dt = child.findtext(\"{Ischemic_x0020_Stroke_x0020_Registry-NLP_x0020_project}event_end_dt_tm\").strip()\n",
      "    text = child.findtext(\"{Ischemic_x0020_Stroke_x0020_Registry-NLP_x0020_project}contents_plain_txt\").strip()\n",
      "    \n",
      "    record = Record(crnt_mrn, encntr_id, fin_nbr_txt, event_cd, event_label, event_tag, event_end_dt, text)\n",
      "    records.append(record)\n",
      "print \"Total number of reports \", num_reports\n",
      "print \"Sanity check \",len(records)'''"
     ],
     "language": "python",
     "metadata": {},
     "outputs": [],
     "prompt_number": null
    },
    {
     "cell_type": "code",
     "collapsed": false,
     "input": [
      "variables = vars(records[0]).keys()\n",
      "df = pd.DataFrame([[getattr(i,j) for j in variables] for i in records], columns = variables)\n",
      "df.head(5)"
     ],
     "language": "python",
     "metadata": {},
     "outputs": [],
     "prompt_number": 4
    },
    {
     "cell_type": "code",
     "collapsed": false,
     "input": [
      "df[\"crnt_mrn_clean\"] = df[\"crnt_mrn\"].apply(lambda x: str(x).lstrip(\"0\"))\n",
      "df[\"crnt_mrn_clean\"] = df[\"crnt_mrn_clean\"].apply(pd.to_numeric)\n",
      "df.dtypes"
     ],
     "language": "python",
     "metadata": {},
     "outputs": [],
     "prompt_number": 5
    },
    {
     "cell_type": "heading",
     "level": 2,
     "metadata": {},
     "source": [
      "Number of unique fin_nbr_txt, crnt_mrn, encntr_id, event_cd, event_label "
     ]
    },
    {
     "cell_type": "code",
     "collapsed": false,
     "input": [
      "df.fin_nbr_txt.nunique()"
     ],
     "language": "python",
     "metadata": {},
     "outputs": [],
     "prompt_number": 6
    },
    {
     "cell_type": "code",
     "collapsed": false,
     "input": [
      "df.crnt_mrn.nunique()"
     ],
     "language": "python",
     "metadata": {},
     "outputs": [],
     "prompt_number": 7
    },
    {
     "cell_type": "code",
     "collapsed": false,
     "input": [
      "df.encntr_id.nunique()"
     ],
     "language": "python",
     "metadata": {},
     "outputs": [],
     "prompt_number": 8
    },
    {
     "cell_type": "code",
     "collapsed": false,
     "input": [
      "all_encntr = df.encntr_id.unique()\n",
      "with open(\"AllenctrIds.txt\", 'w') as f:\n",
      "    np.savetxt(f, np.float64(all_encntr), '%5.e')"
     ],
     "language": "python",
     "metadata": {},
     "outputs": [],
     "prompt_number": 9
    },
    {
     "cell_type": "code",
     "collapsed": false,
     "input": [
      "print \"Number of event types \", df.event_label.nunique()"
     ],
     "language": "python",
     "metadata": {},
     "outputs": [],
     "prompt_number": 10
    },
    {
     "cell_type": "heading",
     "level": 2,
     "metadata": {},
     "source": [
      "Remove the unwanted columns"
     ]
    },
    {
     "cell_type": "code",
     "collapsed": false,
     "input": [
      "#Remove redundant columns event_tag, crnt_mrn, encntr_id, event_cd\n",
      "df.drop([\"event_cd\", \"crnt_mrn\", \"encntr_id\"], axis=1, inplace=True)"
     ],
     "language": "python",
     "metadata": {},
     "outputs": [],
     "prompt_number": 11
    },
    {
     "cell_type": "code",
     "collapsed": false,
     "input": [
      "df.head(5)"
     ],
     "language": "python",
     "metadata": {},
     "outputs": [],
     "prompt_number": 12
    },
    {
     "cell_type": "heading",
     "level": 2,
     "metadata": {},
     "source": [
      "Find the crnt_mrn for which number of fin_nbr_txt or encntr_id is greater than 1"
     ]
    },
    {
     "cell_type": "code",
     "collapsed": false,
     "input": [
      "df2 = df.groupby([\"crnt_mrn_clean\", \"fin_nbr_txt\"]).count().reset_index()"
     ],
     "language": "python",
     "metadata": {},
     "outputs": [],
     "prompt_number": 13
    },
    {
     "cell_type": "code",
     "collapsed": false,
     "input": [
      "vc = df2.crnt_mrn_clean.value_counts()\n",
      "double_encounters = vc[vc>1]\n",
      "double_encounters"
     ],
     "language": "python",
     "metadata": {},
     "outputs": [],
     "prompt_number": 14
    },
    {
     "cell_type": "heading",
     "level": 2,
     "metadata": {},
     "source": [
      "Temporarily drop the multi-encounter MRNs "
     ]
    },
    {
     "cell_type": "code",
     "collapsed": false,
     "input": [
      "df.shape"
     ],
     "language": "python",
     "metadata": {},
     "outputs": [],
     "prompt_number": 15
    },
    {
     "cell_type": "code",
     "collapsed": false,
     "input": [
      "df_temp = df.ix[~(df[\"crnt_mrn_clean\"].isin(double_encounters.index))]"
     ],
     "language": "python",
     "metadata": {},
     "outputs": [],
     "prompt_number": 16
    },
    {
     "cell_type": "code",
     "collapsed": false,
     "input": [
      "df_temp.shape"
     ],
     "language": "python",
     "metadata": {},
     "outputs": [],
     "prompt_number": 116
    },
    {
     "cell_type": "code",
     "collapsed": false,
     "input": [
      "df_temp[\"crnt_mrn_clean\"].nunique()"
     ],
     "language": "python",
     "metadata": {},
     "outputs": [],
     "prompt_number": 118
    },
    {
     "cell_type": "heading",
     "level": 2,
     "metadata": {},
     "source": [
      "Number of records/reports per patient"
     ]
    },
    {
     "cell_type": "code",
     "collapsed": false,
     "input": [
      "df2.head(5)"
     ],
     "language": "python",
     "metadata": {},
     "outputs": [],
     "prompt_number": 18
    },
    {
     "cell_type": "code",
     "collapsed": false,
     "input": [
      "print df2.event_label.max(), df2.event_label.min()\n",
      "plt.hist(df2.event_label, bins=50)\n",
      "plt.xlabel(\"Number of reports\")\n",
      "plt.ylabel(\"Number of patients\")\n",
      "plt.show()"
     ],
     "language": "python",
     "metadata": {},
     "outputs": [],
     "prompt_number": 19
    },
    {
     "cell_type": "heading",
     "level": 2,
     "metadata": {},
     "source": [
      "Working with labels "
     ]
    },
    {
     "cell_type": "code",
     "collapsed": false,
     "input": [
      "labels_df = pd.read_csv(\"TOAST_new.csv\")\n",
      "labels_df.head(10)"
     ],
     "language": "python",
     "metadata": {},
     "outputs": [],
     "prompt_number": 131
    },
    {
     "cell_type": "code",
     "collapsed": false,
     "input": [
      "print df2.shape\n",
      "print df_temp.shape\n",
      "print df2[\"crnt_mrn_clean\"].nunique()\n",
      "print df2[\"fin_nbr_txt\"].nunique()\n",
      "print df_temp[\"crnt_mrn_clean\"].nunique()\n",
      "print df_temp[\"fin_nbr_txt\"].nunique()\n",
      "df2 = df_temp"
     ],
     "language": "python",
     "metadata": {},
     "outputs": [],
     "prompt_number": 119
    },
    {
     "cell_type": "code",
     "collapsed": false,
     "input": [
      "print \"MRNs in data file \",df2.crnt_mrn_clean.nunique()\n",
      "print \"MRNs in label file \",labels_df.MRN.nunique()\n",
      "\n",
      "mrnsData = list(set(df2[\"crnt_mrn_clean\"]))\n",
      "mrnsLabels = list(set(labels_df[\"MRN\"]))\n",
      "\n",
      "missinglabelsMRNs = list(set(df2[\"crnt_mrn_clean\"]) - set(labels_df[\"MRN\"]))\n",
      "missingdataMRNs = list(set(labels_df[\"MRN\"]) - set(df2[\"crnt_mrn_clean\"]))\n",
      "\n",
      "print \"MRNs in data file sanity \",len(mrnsData)\n",
      "print \"MRNs in label file sanity \",len(mrnsLabels)\n",
      "print \"MRNs for which we have data but not labels \",len(missinglabelsMRNs)\n",
      "print \"MRNs for which we have labels but not data \",len(missingdataMRNs)\n",
      "\n",
      "\n",
      "mrnsDatafile = open(\"mrnsDataFile.txt\", \"w\")\n",
      "mrnsLabelfile = open(\"mrnsLabelFile.txt\", \"w\")\n",
      "missinglabelsfile = open(\"mrnsMissingLabels.txt\", \"w\")\n",
      "missingdatafile = open(\"mrnsMissingData.txt\", \"w\")\n",
      "\n",
      "\n",
      "for item in mrnsData:\n",
      "    mrnsDatafile.write(\"%s\\n\" % item)\n",
      "mrnsDatafile.close()\n",
      "\n",
      "for item in mrnsLabels:\n",
      "    mrnsLabelfile.write(\"%s\\n\" % item)\n",
      "mrnsLabelfile.close()\n",
      "\n",
      "for item in missinglabelsMRNs:\n",
      "    missinglabelsfile.write(\"%s\\n\" % item)\n",
      "missinglabelsfile.close()\n",
      "\n",
      "for item in missingdataMRNs:\n",
      "    missingdatafile.write(\"%s\\n\" % item)\n",
      "missingdatafile.close()"
     ],
     "language": "python",
     "metadata": {},
     "outputs": [],
     "prompt_number": 132
    },
    {
     "cell_type": "code",
     "collapsed": false,
     "input": [
      "print \"Total number of unique patients/mrn in labels \",labels_df[\"MRN\"].nunique()"
     ],
     "language": "python",
     "metadata": {},
     "outputs": [],
     "prompt_number": 133
    },
    {
     "cell_type": "code",
     "collapsed": false,
     "input": [
      "print labels_df[\"TOAST subtype\"].value_counts()\n",
      "print \"Total number of categories \", labels_df[\"TOAST subtype\"].nunique()"
     ],
     "language": "python",
     "metadata": {},
     "outputs": [],
     "prompt_number": 122
    },
    {
     "cell_type": "heading",
     "level": 2,
     "metadata": {},
     "source": [
      "Drop rows where the label is not present"
     ]
    },
    {
     "cell_type": "code",
     "collapsed": false,
     "input": [
      "labels_df = labels_df[pd.notnull(labels_df[\"TOAST subtype\"])]\n",
      "labels_df.shape[0]"
     ],
     "language": "python",
     "metadata": {},
     "outputs": [],
     "prompt_number": 134
    },
    {
     "cell_type": "heading",
     "level": 2,
     "metadata": {},
     "source": [
      "Find actual number of data points we have"
     ]
    },
    {
     "cell_type": "code",
     "collapsed": false,
     "input": [
      "df_merged = df_temp.merge(labels_df[[\"MRN\", \"TOAST subtype\"]], left_on=\"crnt_mrn_clean\", right_on=\"MRN\")\n",
      "df_merged.head(5)"
     ],
     "language": "python",
     "metadata": {},
     "outputs": [],
     "prompt_number": 135
    },
    {
     "cell_type": "code",
     "collapsed": false,
     "input": [
      "print \"Number of patients we have data for \",df_merged[\"MRN\"].nunique()"
     ],
     "language": "python",
     "metadata": {},
     "outputs": [],
     "prompt_number": 136
    },
    {
     "cell_type": "code",
     "collapsed": false,
     "input": [
      "df_merged[\"crnt_mrn_clean\"].nunique()"
     ],
     "language": "python",
     "metadata": {},
     "outputs": [],
     "prompt_number": 137
    },
    {
     "cell_type": "code",
     "collapsed": false,
     "input": [
      "df_merged[\"fin_nbr_txt\"].nunique()"
     ],
     "language": "python",
     "metadata": {},
     "outputs": [],
     "prompt_number": 138
    },
    {
     "cell_type": "code",
     "collapsed": false,
     "input": [
      "df_final = df_merged.drop([\"fin_nbr_txt\", \"crnt_mrn_clean\"], axis=1)\n",
      "df_final.head(5)"
     ],
     "language": "python",
     "metadata": {},
     "outputs": [],
     "prompt_number": 139
    },
    {
     "cell_type": "code",
     "collapsed": false,
     "input": [
      "countByPatId = df_final[[\"Patient ID\", \"event_label\"]].groupby(\"Patient ID\").count().reset_index()\n",
      "countByPatId.head(5)"
     ],
     "language": "python",
     "metadata": {},
     "outputs": [],
     "prompt_number": null
    },
    {
     "cell_type": "heading",
     "level": 2,
     "metadata": {},
     "source": [
      "Get labels and save"
     ]
    },
    {
     "cell_type": "code",
     "collapsed": false,
     "input": [
      "print df_final[\"MRN\"].nunique()\n",
      "labels_final = df_final[[\"MRN\", \"TOAST subtype\"]]\n",
      "print labels_final.shape\n",
      "labels_final = labels_final.drop_duplicates()\n",
      "print labels_final[\"MRN\"].nunique()\n",
      "print labels_final.shape\n",
      "labels_final[\"TOAST subtype\"].value_counts()"
     ],
     "language": "python",
     "metadata": {},
     "outputs": [],
     "prompt_number": 140
    },
    {
     "cell_type": "code",
     "collapsed": false,
     "input": [
      "vc2 = labels_final[\"MRN\"].value_counts()\n",
      "doubleLabels = vc2[vc2>1]\n",
      "print len(doubleLabels)\n",
      "doubleLabels"
     ],
     "language": "python",
     "metadata": {},
     "outputs": [],
     "prompt_number": 141
    },
    {
     "cell_type": "code",
     "collapsed": true,
     "input": [
      "labels_final.to_pickle(\"toast_labels.pkl\")"
     ],
     "language": "python",
     "metadata": {},
     "outputs": [],
     "prompt_number": 142
    },
    {
     "cell_type": "heading",
     "level": 2,
     "metadata": {},
     "source": [
      "Text cleaning"
     ]
    },
    {
     "cell_type": "code",
     "collapsed": false,
     "input": [
      "data_final = df_final[[\"MRN\", \"event_label\", \"text\"]]\n",
      "data_final[\"event_label\"].nunique()"
     ],
     "language": "python",
     "metadata": {
      "scrolled": true
     },
     "outputs": [],
     "prompt_number": 143
    },
    {
     "cell_type": "code",
     "collapsed": true,
     "input": [
      "def clean_str(string):\n",
      "    \"\"\"\n",
      "    Tokenization/string cleaning for all datasets except for SST.\n",
      "    Original taken from https://github.com/yoonkim/CNN_sentence/blob/master/process_data.py\n",
      "    \"\"\"\n",
      "    string = re.sub(r\"[^A-Za-z,!?]\", \" \", string)\n",
      "    string = re.sub(r\"\\'s\", \" \\'s\", string)\n",
      "    string = re.sub(r\"\\'ve\", \" \\'ve\", string)\n",
      "    string = re.sub(r\"n\\'t\", \" n\\'t\", string)\n",
      "    string = re.sub(r\"\\'re\", \" \\'re\", string)\n",
      "    string = re.sub(r\"\\'d\", \" \\'d\", string)\n",
      "    string = re.sub(r\"\\'ll\", \" \\'ll\", string)\n",
      "    string = re.sub(r\",\", \" , \", string)\n",
      "    string = re.sub(r\"!\", \" ! \", string)\n",
      "    string = re.sub(r\"\\(\", \" \\( \", string)\n",
      "    string = re.sub(r\"\\)\", \" \\) \", string)\n",
      "    string = re.sub(r\"\\?\", \" \\? \", string)\n",
      "    string = re.sub(r\"\\s{2,}\", \" \", string)\n",
      "    splits = string.strip().lower().split(\" \")\n",
      "    string = [word for word in splits if len(word) > 1]\n",
      "    return \" \".join(string)#.strip().lower()\"\""
     ],
     "language": "python",
     "metadata": {},
     "outputs": [],
     "prompt_number": 144
    },
    {
     "cell_type": "code",
     "collapsed": false,
     "input": [
      "data_final.head()"
     ],
     "language": "python",
     "metadata": {},
     "outputs": [],
     "prompt_number": 145
    },
    {
     "cell_type": "code",
     "collapsed": false,
     "input": [
      "data_final[\"text_clean\"] = data_final[\"text\"].apply(lambda row : clean_str(row))"
     ],
     "language": "python",
     "metadata": {},
     "outputs": [],
     "prompt_number": 146
    },
    {
     "cell_type": "code",
     "collapsed": false,
     "input": [
      "data_final.head()"
     ],
     "language": "python",
     "metadata": {},
     "outputs": [],
     "prompt_number": 147
    },
    {
     "cell_type": "code",
     "collapsed": true,
     "input": [
      "data_final.to_pickle(\"data_final_all.pkl\")"
     ],
     "language": "python",
     "metadata": {},
     "outputs": [],
     "prompt_number": 148
    },
    {
     "cell_type": "heading",
     "level": 3,
     "metadata": {
      "collapsed": true
     },
     "source": [
      "Keep only the reports with interested event labels "
     ]
    },
    {
     "cell_type": "code",
     "collapsed": true,
     "input": [
      "labelsToKeep = [\"Stroke - Subsequent Note\", \"Neurology - Subsequent Note\", \"Stroke - Consult\", \"Neurology - Consult\"]"
     ],
     "language": "python",
     "metadata": {},
     "outputs": [],
     "prompt_number": 149
    },
    {
     "cell_type": "code",
     "collapsed": false,
     "input": [
      "data2 = data_final.ix[data_final.event_label.isin(labelsToKeep)]"
     ],
     "language": "python",
     "metadata": {},
     "outputs": [],
     "prompt_number": 150
    },
    {
     "cell_type": "code",
     "collapsed": false,
     "input": [
      "data2.shape"
     ],
     "language": "python",
     "metadata": {},
     "outputs": [],
     "prompt_number": 151
    },
    {
     "cell_type": "code",
     "collapsed": false,
     "input": [
      "data2.head()"
     ],
     "language": "python",
     "metadata": {},
     "outputs": [],
     "prompt_number": 152
    },
    {
     "cell_type": "code",
     "collapsed": true,
     "input": [
      "data2.to_pickle(\"data_interested_event_labels.pkl\")"
     ],
     "language": "python",
     "metadata": {},
     "outputs": [],
     "prompt_number": 153
    },
    {
     "cell_type": "code",
     "collapsed": false,
     "input": [
      "data2[\"MRN\"].nunique()"
     ],
     "language": "python",
     "metadata": {},
     "outputs": [],
     "prompt_number": 159
    },
    {
     "cell_type": "heading",
     "level": 3,
     "metadata": {},
     "source": [
      "Keep only the radiology reports "
     ]
    },
    {
     "cell_type": "code",
     "collapsed": true,
     "input": [
      "toKeepText = [\"MRA Head WWO Contrast\", \n",
      "              \"MRI Brain WWO Contrast\", \n",
      "              \"MRA Neck WWO Contrast\", \n",
      "              \"MRA Head WO Contrast\", \n",
      "              \"MRI Brain WO Contrast\", \n",
      "              \"MRA Neck WO Contrast\",\n",
      "              \"MRI BRAIN WITH AND WITHOUT CONTRAST\",\n",
      "              \"MRA HEAD WITH AND WITHOUT CONTRAST\",\n",
      "              \"MRA NECK WITH AND WITHOUT CONTRAST\",\n",
      "              \"MRI BRAIN WITH CONTRAST\",\n",
      "              \"MRA HEAD WITH CONTRAST\",\n",
      "              \"MRA NECK WITH CONTRAST\",\n",
      "              \"MRA BRAIN AND NECK\",\n",
      "              \"MRI HEAD AND BRAIN\",\n",
      "              \"MRI HEAD AND NECK\",\n",
      "              \"MRA HEAD AND NECK\",\n",
      "             ]"
     ],
     "language": "python",
     "metadata": {},
     "outputs": [],
     "prompt_number": 154
    },
    {
     "cell_type": "code",
     "collapsed": false,
     "input": [
      "data2_temp = data_final.ix[data_final.event_label.isin([\"Report\"])]\n",
      "data3 = []\n",
      "for i in range(len(toKeepText)):\n",
      "    data3.append(data2_temp.ix[data2_temp.text_clean.str.contains(toKeepText[i].lower())])\n",
      "    print data3[i].shape\n",
      "data3_final = pd.concat(data3)"
     ],
     "language": "python",
     "metadata": {},
     "outputs": [],
     "prompt_number": 155
    },
    {
     "cell_type": "code",
     "collapsed": false,
     "input": [
      "data3_final[\"MRN\"].nunique()"
     ],
     "language": "python",
     "metadata": {},
     "outputs": [],
     "prompt_number": 156
    },
    {
     "cell_type": "code",
     "collapsed": true,
     "input": [
      "data3_final.to_pickle(\"data_final_rad_reports.pkl\")"
     ],
     "language": "python",
     "metadata": {},
     "outputs": [],
     "prompt_number": 157
    },
    {
     "cell_type": "code",
     "collapsed": true,
     "input": [],
     "language": "python",
     "metadata": {},
     "outputs": [],
     "prompt_number": null
    }
   ],
   "metadata": {}
  }
 ]
}