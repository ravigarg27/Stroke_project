{
 "metadata": {
  "anaconda-cloud": {},
  "kernelspec": {
   "display_name": "Python [Root]",
   "language": "python",
   "name": "Python [Root]"
  },
  "language_info": {
   "codemirror_mode": {
    "name": "ipython",
    "version": 2
   },
   "file_extension": ".py",
   "mimetype": "text/x-python",
   "name": "python",
   "nbconvert_exporter": "python",
   "pygments_lexer": "ipython2",
   "version": "2.7.12"
  },
  "name": ""
 },
 "nbformat": 3,
 "nbformat_minor": 0,
 "worksheets": [
  {
   "cells": [
    {
     "cell_type": "heading",
     "level": 1,
     "metadata": {},
     "source": [
      "Load Libraries "
     ]
    },
    {
     "cell_type": "code",
     "collapsed": false,
     "input": [
      "import numpy as np\n",
      "import pandas as pd\n",
      "import xgboost as xgb\n",
      "from xgboost.sklearn import XGBClassifier\n",
      "from sklearn.feature_extraction.text import TfidfVectorizer\n",
      "from sklearn.model_selection import GridSearchCV, StratifiedKFold\n",
      "import cPickle as pickle\n",
      "import matplotlib.pyplot as plt"
     ],
     "language": "python",
     "metadata": {},
     "outputs": [],
     "prompt_number": 1
    },
    {
     "cell_type": "heading",
     "level": 1,
     "metadata": {},
     "source": [
      "Load data"
     ]
    },
    {
     "cell_type": "code",
     "collapsed": true,
     "input": [
      "with open(\"corpus.pkl\") as f:\n",
      "    corpus = pickle.load(f)\n",
      "with open(\"label.pkl\") as f:\n",
      "    label = pickle.load(f)"
     ],
     "language": "python",
     "metadata": {},
     "outputs": [],
     "prompt_number": 2
    },
    {
     "cell_type": "code",
     "collapsed": false,
     "input": [
      "tfIDFVect = TfidfVectorizer(ngram_range=(1,3), smooth_idf=1, use_idf=1, min_df = 0.05,\n",
      "                            max_df=0.95, analyzer='word', stop_words=\"english\")\n",
      "dtrain = tfIDFVect.fit_transform(corpus)"
     ],
     "language": "python",
     "metadata": {},
     "outputs": [],
     "prompt_number": 3
    },
    {
     "cell_type": "code",
     "collapsed": false,
     "input": [
      "featNames = tfIDFVect.get_feature_names()\n",
      "print \"Total number of features \",len(featNames)"
     ],
     "language": "python",
     "metadata": {},
     "outputs": [],
     "prompt_number": 4
    },
    {
     "cell_type": "heading",
     "level": 1,
     "metadata": {},
     "source": [
      "Define function for modeling and cross validation"
     ]
    },
    {
     "cell_type": "code",
     "collapsed": true,
     "input": [
      "def modelfit(alg, dtrain, label,cv_folds=5, early_stopping_rounds=50):\n",
      "    xgb_param = alg.get_xgb_params()\n",
      "    xgb_param['num_class'] = 5\n",
      "    xgtrain = xgb.DMatrix(dtrain, label)\n",
      "    cvresult = xgb.cv(xgb_param, xgtrain, \n",
      "                      num_boost_round=alg.get_params()['n_estimators'], nfold=cv_folds,\n",
      "                      stratified=True,early_stopping_rounds=early_stopping_rounds, metrics='merror',verbose_eval=True)\n",
      "    alg.set_params(n_estimators=cvresult.shape[0])\n",
      "    return cvresult.shape[0]"
     ],
     "language": "python",
     "metadata": {},
     "outputs": [],
     "prompt_number": 5
    },
    {
     "cell_type": "heading",
     "level": 1,
     "metadata": {},
     "source": [
      "Step 1: Find optimal number of estimators "
     ]
    },
    {
     "cell_type": "code",
     "collapsed": false,
     "input": [
      "xgb1 = XGBClassifier(\n",
      "        learning_rate =0.1,\n",
      "        n_estimators=500,\n",
      "        max_depth=3,\n",
      "        min_child_weight=3,\n",
      "        gamma=0,\n",
      "        subsample=0.8,\n",
      "        colsample_bytree=0.8,\n",
      "        objective= 'multi:softmax',\n",
      "        nthread=-1,\n",
      "        scale_pos_weight=1,\n",
      "        seed=27)"
     ],
     "language": "python",
     "metadata": {},
     "outputs": [],
     "prompt_number": 6
    },
    {
     "cell_type": "code",
     "collapsed": false,
     "input": [
      "numEstimators = modelfit(xgb1, dtrain, label)\n",
      "print numEstimators"
     ],
     "language": "python",
     "metadata": {},
     "outputs": [],
     "prompt_number": 7
    },
    {
     "cell_type": "heading",
     "level": 1,
     "metadata": {},
     "source": [
      "Step 2: Find max_depth and min_child_weight"
     ]
    },
    {
     "cell_type": "code",
     "collapsed": true,
     "input": [
      "k_fold = StratifiedKFold(5)"
     ],
     "language": "python",
     "metadata": {},
     "outputs": [],
     "prompt_number": 8
    },
    {
     "cell_type": "code",
     "collapsed": false,
     "input": [
      "param_test1 = {\n",
      "    'max_depth':range(3,10,2),\n",
      "    'min_child_weight':range(1,6,2)\n",
      "}\n",
      "\n",
      "gsearch1 = GridSearchCV(estimator = XGBClassifier( learning_rate = 0.1, n_estimators=numEstimators, max_depth=5,\n",
      "                                        min_child_weight=1, gamma=0, subsample=0.8, colsample_bytree=0.8,\n",
      "                                        objective= 'multi:softmax', nthread=4, scale_pos_weight=1, seed=27), \n",
      "                       param_grid = param_test1, n_jobs=-1,iid=False, cv=k_fold, verbose=3, scoring=\"accuracy\")\n",
      "gsearch1.fit(dtrain,label)"
     ],
     "language": "python",
     "metadata": {},
     "outputs": [],
     "prompt_number": 9
    },
    {
     "cell_type": "code",
     "collapsed": false,
     "input": [
      "gsearch1.grid_scores_, gsearch1.best_params_, gsearch1.best_score_"
     ],
     "language": "python",
     "metadata": {},
     "outputs": [],
     "prompt_number": 10
    },
    {
     "cell_type": "code",
     "collapsed": false,
     "input": [
      "best_max_depth = gsearch1.best_params_['max_depth']\n",
      "best_min_child_weight = gsearch1.best_params_['min_child_weight']"
     ],
     "language": "python",
     "metadata": {},
     "outputs": [],
     "prompt_number": 11
    },
    {
     "cell_type": "heading",
     "level": 1,
     "metadata": {},
     "source": [
      "Step 3 : Find gamma"
     ]
    },
    {
     "cell_type": "code",
     "collapsed": false,
     "input": [
      "param_test3 = {\n",
      "    'gamma':[i/10.0 for i in range(0,5)]\n",
      "}\n",
      "gsearch3 = GridSearchCV(estimator = XGBClassifier( learning_rate =0.1, n_estimators=numEstimators, max_depth=best_max_depth,\n",
      "                                        min_child_weight=best_min_child_weight, gamma=0, subsample=0.8, colsample_bytree=0.8,\n",
      "                                        objective= 'multi:softmax', nthread=4, scale_pos_weight=1,seed=27), \n",
      "                       param_grid = param_test3, scoring='accuracy',n_jobs=-1,iid=False, verbose=3, cv=k_fold)\n",
      "gsearch3.fit(dtrain,label)"
     ],
     "language": "python",
     "metadata": {},
     "outputs": [],
     "prompt_number": 12
    },
    {
     "cell_type": "code",
     "collapsed": false,
     "input": [
      "gsearch3.grid_scores_, gsearch3.best_params_, gsearch3.best_score_"
     ],
     "language": "python",
     "metadata": {},
     "outputs": [],
     "prompt_number": 13
    },
    {
     "cell_type": "code",
     "collapsed": true,
     "input": [
      "best_gamma = gsearch3.best_params_['gamma']"
     ],
     "language": "python",
     "metadata": {},
     "outputs": [],
     "prompt_number": 14
    },
    {
     "cell_type": "heading",
     "level": 1,
     "metadata": {},
     "source": [
      "Step 4 : Find subsample and colsample_bytree"
     ]
    },
    {
     "cell_type": "code",
     "collapsed": false,
     "input": [
      "param_test4 = {\n",
      "    'subsample':[i/10.0 for i in range(6,10)],\n",
      "    'colsample_bytree':[i/10.0 for i in range(6,10)]\n",
      "}\n",
      "gsearch4 = GridSearchCV(estimator = XGBClassifier( learning_rate =0.1, n_estimators=numEstimators, max_depth=best_max_depth,\n",
      "                                        min_child_weight=best_min_child_weight, gamma=best_gamma, subsample=0.8, colsample_bytree=0.8,\n",
      "                                        objective= 'multi:softmax', nthread=4, scale_pos_weight=1,seed=27), \n",
      "                       param_grid = param_test4, scoring='accuracy',n_jobs=-1,iid=False, verbose=3, cv=k_fold)\n",
      "gsearch4.fit(dtrain,label)"
     ],
     "language": "python",
     "metadata": {},
     "outputs": [],
     "prompt_number": 15
    },
    {
     "cell_type": "code",
     "collapsed": false,
     "input": [
      "gsearch4.grid_scores_, gsearch4.best_params_, gsearch4.best_score_"
     ],
     "language": "python",
     "metadata": {},
     "outputs": [],
     "prompt_number": 16
    },
    {
     "cell_type": "code",
     "collapsed": false,
     "input": [
      "best_subsample = gsearch4.best_params_['subsample']\n",
      "best_colsample_bytree = gsearch4.best_params_['colsample_bytree']"
     ],
     "language": "python",
     "metadata": {},
     "outputs": [],
     "prompt_number": 17
    },
    {
     "cell_type": "heading",
     "level": 1,
     "metadata": {},
     "source": [
      "Step 5 : Find regularization alpha"
     ]
    },
    {
     "cell_type": "code",
     "collapsed": true,
     "input": [],
     "language": "python",
     "metadata": {},
     "outputs": [],
     "prompt_number": null
    },
    {
     "cell_type": "heading",
     "level": 1,
     "metadata": {
      "collapsed": true
     },
     "source": [
      "Step 6: Get Feature Importance "
     ]
    },
    {
     "cell_type": "code",
     "collapsed": false,
     "input": [
      "xgb_final = XGBClassifier(\n",
      "        learning_rate =0.1,\n",
      "        n_estimators=59,\n",
      "        max_depth=9,\n",
      "        min_child_weight=3,\n",
      "        gamma=0.2,\n",
      "        subsample=0.6,\n",
      "        colsample_bytree=0.9,\n",
      "        objective= 'multi:softmax',\n",
      "        nthread=-1,\n",
      "        scale_pos_weight=1,\n",
      "        seed=27)"
     ],
     "language": "python",
     "metadata": {},
     "outputs": [],
     "prompt_number": 18
    },
    {
     "cell_type": "code",
     "collapsed": true,
     "input": [
      "xgb_final.fit(dtrain, label ,eval_metric='merror')\n",
      "featImp = xgb_final.booster().get_fscore()"
     ],
     "language": "python",
     "metadata": {},
     "outputs": [],
     "prompt_number": 19
    },
    {
     "cell_type": "code",
     "collapsed": false,
     "input": [
      "featImpMapping = {}\n",
      "for key,val in featImp.iteritems():\n",
      "    index = key[1:]\n",
      "    featImpMapping[featNames[int(index)]] = val"
     ],
     "language": "python",
     "metadata": {},
     "outputs": [],
     "prompt_number": 20
    },
    {
     "cell_type": "code",
     "collapsed": true,
     "input": [
      "featImpDf = pd.DataFrame.from_dict(featImpMapping, orient='index').reset_index()\n",
      "featImpDf.columns = [\"Feature\", \"Importance\"]"
     ],
     "language": "python",
     "metadata": {},
     "outputs": [],
     "prompt_number": 21
    },
    {
     "cell_type": "code",
     "collapsed": true,
     "input": [
      "featImpDf.sort_values(\"Importance\", ascending=False, axis=0, inplace=True)\n",
      "featImpDf.to_csv(\"FeatureImportance.csv\", index=False)"
     ],
     "language": "python",
     "metadata": {},
     "outputs": [],
     "prompt_number": 22
    },
    {
     "cell_type": "heading",
     "level": 1,
     "metadata": {},
     "source": [
      "Step 7: Visualize tree"
     ]
    },
    {
     "cell_type": "code",
     "collapsed": true,
     "input": [
      "with open(\"tmp_model.pkl\",\"wb\") as modelFile:\n",
      "    pickle.dump(xgb_final, modelFile)"
     ],
     "language": "python",
     "metadata": {},
     "outputs": [],
     "prompt_number": null
    },
    {
     "cell_type": "code",
     "collapsed": false,
     "input": [
      "xgb.to_graphviz(xgb_final.booster(), rankdir='LR')"
     ],
     "language": "python",
     "metadata": {},
     "outputs": [],
     "prompt_number": null
    },
    {
     "cell_type": "code",
     "collapsed": true,
     "input": [],
     "language": "python",
     "metadata": {},
     "outputs": [],
     "prompt_number": null
    },
    {
     "cell_type": "code",
     "collapsed": true,
     "input": [],
     "language": "python",
     "metadata": {},
     "outputs": [],
     "prompt_number": null
    }
   ],
   "metadata": {}
  }
 ]
}