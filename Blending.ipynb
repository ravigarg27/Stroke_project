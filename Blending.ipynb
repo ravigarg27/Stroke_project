{
 "cells": [
  {
   "cell_type": "code",
   "execution_count": 30,
   "metadata": {
    "collapsed": true
   },
   "outputs": [],
   "source": [
    "import numpy as np\n",
    "import pandas as pd\n",
    "import os\n",
    "import cPickle as pickle\n",
    "from pprint import pprint\n",
    "from time import time\n",
    "import matplotlib.pyplot as plt\n",
    "%matplotlib inline\n",
    "from scipy import interp\n",
    "from itertools import cycle\n",
    "\n",
    "from sklearn.neighbors import KNeighborsClassifier\n",
    "from sklearn.preprocessing import LabelEncoder, FunctionTransformer\n",
    "from sklearn.pipeline import Pipeline, FeatureUnion\n",
    "from sklearn.model_selection import GridSearchCV, StratifiedKFold\n",
    "from sklearn.feature_extraction.text import CountVectorizer, TfidfVectorizer\n",
    "from sklearn.linear_model import LogisticRegression\n",
    "from sklearn.svm import LinearSVC, SVC\n",
    "from sklearn.ensemble import RandomForestClassifier, GradientBoostingClassifier, ExtraTreesClassifier\n",
    "from sklearn.metrics import classification_report, accuracy_score\n",
    "from sklearn.decomposition import PCA\n",
    "from sklearn.feature_selection import SelectFromModel\n",
    "from sklearn.metrics import roc_auc_score, roc_curve, auc, confusion_matrix\n",
    "from sklearn.preprocessing import label_binarize\n",
    "\n",
    "from mlxtend.classifier import StackingClassifier\n",
    "\n",
    "import xgboost as xgb\n",
    "from xgboost.sklearn import XGBClassifier\n",
    "import seaborn as sns"
   ]
  },
  {
   "cell_type": "markdown",
   "metadata": {},
   "source": [
    "### Define the cross validation scorer"
   ]
  },
  {
   "cell_type": "code",
   "execution_count": 17,
   "metadata": {
    "collapsed": true
   },
   "outputs": [],
   "source": [
    "def cross_validated_scorer(X_train_list, y_train_list, X_val_list, y_val_list, model_class):\n",
    "    \n",
    "    mod = model_class\n",
    "    scores = []  \n",
    "    t0 = time()\n",
    "    for i in xrange(len(X_train_list)):\n",
    "        \n",
    "        train_text = X_train_list[i]\n",
    "        train_label = y_train_list[i]\n",
    "        \n",
    "        val_text = X_val_list[i]\n",
    "        val_label = y_val_list[i]\n",
    "        \n",
    "        mod.fit(train_text, train_label)\n",
    "        \n",
    "        val_score = mod.score(val_text, val_label)\n",
    "        scores.append(val_score)\n",
    "        \n",
    "    print \"Duration \", time() - t0\n",
    "    scores = np.array(scores)\n",
    "    return scores"
   ]
  },
  {
   "cell_type": "markdown",
   "metadata": {},
   "source": [
    "### Import data "
   ]
  },
  {
   "cell_type": "code",
   "execution_count": 8,
   "metadata": {
    "collapsed": false
   },
   "outputs": [
    {
     "name": "stdout",
     "output_type": "stream",
     "text": [
      "(1208L,)\n",
      "(1208L,)\n"
     ]
    }
   ],
   "source": [
    "with open(\"../../data/train_corpus_labels_full_reports.pkl\", \"rb\") as filein:\n",
    "    train_corpus = pickle.load(filein)\n",
    "    labels = pickle.load(filein)\n",
    "\n",
    "print train_corpus.shape\n",
    "print labels.shape"
   ]
  },
  {
   "cell_type": "markdown",
   "metadata": {},
   "source": [
    "### Preprocess and cache the folds "
   ]
  },
  {
   "cell_type": "code",
   "execution_count": 37,
   "metadata": {
    "collapsed": true
   },
   "outputs": [],
   "source": [
    "countVect = CountVectorizer(ngram_range=(1,3), min_df=0.05, max_df=0.9, analyzer='word', stop_words=\"english\")\n",
    "pca = PCA(n_components=150)\n",
    "sfmlr = SelectFromModel(LogisticRegression(penalty='l1', C=0.01))\n",
    "combined_features = FeatureUnion([(\"pca\", pca)])\n",
    "\n",
    "preprocess2 = Pipeline([\n",
    "        ('vect', CountVectorizer(ngram_range=(1,3), analyzer='word', stop_words=\"english\", min_df=0.05, max_df=0.9)),\n",
    "        ('ToDense', FunctionTransformer(lambda x: x.todense(), accept_sparse=True)),\n",
    "        ('features', combined_features)\n",
    "    ])"
   ]
  },
  {
   "cell_type": "code",
   "execution_count": null,
   "metadata": {
    "collapsed": false
   },
   "outputs": [],
   "source": [
    "train_text_list = []\n",
    "train_label_list = []\n",
    "val_text_list = []\n",
    "val_label_list = []\n",
    "\n",
    "k_fold = StratifiedKFold(5)\n",
    "\n",
    "for train_indices, val_indices in k_fold.split(train_corpus, labels):\n",
    "    train_text = np.asarray(train_corpus[train_indices])\n",
    "    train_y    = np.asarray(labels[train_indices])\n",
    "\n",
    "    val_text  = np.asarray(train_corpus[val_indices])\n",
    "    val_y     = np.asarray(labels[val_indices])\n",
    "    \n",
    "    start = time()\n",
    "    preprocessor = preprocess2.fit(train_text, train_y)\n",
    "    \n",
    "    train_text_processed = preprocessor.transform(train_text)\n",
    "    print \"Train shape \", train_text_processed.shape\n",
    "    val_text_processed = preprocessor.transform(val_text)\n",
    "    print \"Val shape \", val_text_processed.shape\n",
    "    train_text_list.append(train_text_processed)\n",
    "    train_label_list.append(train_y)\n",
    "    val_text_list.append(val_text_processed)\n",
    "    val_label_list.append(val_y)\n",
    "    \n",
    "    print \"Duration \", time() - start"
   ]
  },
  {
   "cell_type": "markdown",
   "metadata": {},
   "source": [
    "### Base classifiers "
   ]
  },
  {
   "cell_type": "code",
   "execution_count": null,
   "metadata": {
    "collapsed": false
   },
   "outputs": [],
   "source": [
    "knnClassifier = KNeighborsClassifier()\n",
    "svmClassifier = SVC(kernel='linear', probability=True, C=7.0)\n",
    "gbmClassifier = GradientBoostingClassifier()\n",
    "etClassifier = ExtraTreesClassifier(n_estimators=100)\n",
    "rfClassifier = RandomForestClassifier(n_estimators=100)\n",
    "xgbClassifier = XGBClassifier(objective='multi:softprob', \n",
    "                              max_depth=12, \n",
    "                              min_child_weight=1, \n",
    "                              learning_rate=0.1, \n",
    "                              n_estimators=200, \n",
    "                              gamma = 0.3,\n",
    "                              subsample = 0.7,\n",
    "                              colsample_bytree = 0.7,\n",
    "                              nthread=-1)\n",
    "lr = LogisticRegression()"
   ]
  },
  {
   "cell_type": "markdown",
   "metadata": {},
   "source": [
    "### Meta classifier"
   ]
  },
  {
   "cell_type": "code",
   "execution_count": null,
   "metadata": {
    "collapsed": false
   },
   "outputs": [],
   "source": [
    "sclfLr = StackingClassifier(classifiers=[knnClassifier, svmClassifier, gbmClassifier, etClassifier, rfClassifier, xgbClassifier], \n",
    "                          meta_classifier=lr, use_probas=True, average_probas=False)\n",
    "\n",
    "\n",
    "sclfXGB = StackingClassifier(classifiers=[knnClassifier, svmClassifier, gbmClassifier, etClassifier, rfClassifier, xgbClassifier], \n",
    "                          meta_classifier=xgbClassifier, use_probas=True, average_probas=False)"
   ]
  },
  {
   "cell_type": "markdown",
   "metadata": {},
   "source": [
    "### Run each classifier"
   ]
  },
  {
   "cell_type": "code",
   "execution_count": null,
   "metadata": {
    "collapsed": false
   },
   "outputs": [],
   "source": [
    "print('5-fold cross validation:\\n')\n",
    "\n",
    "for clf, label in zip([knnClassifier, svmClassifier, rfClassifier, gbmClassifier, etClassifier, xgbClassifier, sclfLr], \n",
    "                      ['KNN Classifier', \n",
    "                       'SVM', \n",
    "                       'Random forest',\n",
    "                       \"Gradient Boosted Trees\",\n",
    "                       \"Extra trees classifier\",\n",
    "                       'XGB Classifier',\n",
    "                       'StackingClassifier LR']):\n",
    "\n",
    "    scores = cross_validated_scorer(train_text_list, train_label_list, val_text_list, val_label_list, clf)\n",
    "    print(\"Accuracy: %0.2f (+/- %0.2f) [%s]\" \n",
    "          % (scores.mean(), scores.std(), label))"
   ]
  },
  {
   "cell_type": "code",
   "execution_count": null,
   "metadata": {
    "collapsed": false
   },
   "outputs": [],
   "source": [
    "print('5-fold cross validation:\\n')\n",
    "\n",
    "for clf, label in zip([knnClassifier, svmClassifier, rfClassifier, gbmClassifier, etClassifier, xgbClassifier, sclfXGB], \n",
    "                      [\"KNN\",\n",
    "                       'SVM', \n",
    "                       'Random forest',\n",
    "                       'GBM Classifier',\n",
    "                       'ET Classifier',\n",
    "                       'XGB Classifier',\n",
    "                       'StackingClassifier XGB']):\n",
    "\n",
    "    scores = cross_validated_scorer(train_text_list, train_label_list, val_text_list, val_label_list, clf)\n",
    "    print(\"Accuracy: %0.2f (+/- %0.2f) [%s]\" \n",
    "          % (scores.mean(), scores.std(), label))"
   ]
  },
  {
   "cell_type": "code",
   "execution_count": null,
   "metadata": {
    "collapsed": true
   },
   "outputs": [],
   "source": []
  }
 ],
 "metadata": {
  "kernelspec": {
   "display_name": "Python [Root]",
   "language": "python",
   "name": "Python [Root]"
  },
  "language_info": {
   "codemirror_mode": {
    "name": "ipython",
    "version": 2
   },
   "file_extension": ".py",
   "mimetype": "text/x-python",
   "name": "python",
   "nbconvert_exporter": "python",
   "pygments_lexer": "ipython2",
   "version": "2.7.12"
  }
 },
 "nbformat": 4,
 "nbformat_minor": 0
}
