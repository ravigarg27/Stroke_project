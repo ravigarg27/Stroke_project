{
 "metadata": {
  "anaconda-cloud": {},
  "kernelspec": {
   "display_name": "Python [Root]",
   "language": "python",
   "name": "Python [Root]"
  },
  "language_info": {
   "codemirror_mode": {
    "name": "ipython",
    "version": 2
   },
   "file_extension": ".py",
   "mimetype": "text/x-python",
   "name": "python",
   "nbconvert_exporter": "python",
   "pygments_lexer": "ipython2",
   "version": "2.7.12"
  },
  "name": ""
 },
 "nbformat": 3,
 "nbformat_minor": 0,
 "worksheets": [
  {
   "cells": [
    {
     "cell_type": "code",
     "collapsed": false,
     "input": [
      "import numpy as np\n",
      "import pandas as pd\n",
      "import os\n",
      "import cPickle as pickle\n",
      "from pprint import pprint\n",
      "from time import time\n",
      "\n",
      "\n",
      "from sklearn.preprocessing import LabelEncoder\n",
      "from sklearn.pipeline import Pipeline\n",
      "from sklearn.model_selection import GridSearchCV, StratifiedKFold\n",
      "from sklearn.feature_extraction.text import CountVectorizer, TfidfVectorizer\n",
      "from sklearn.linear_model import LogisticRegression\n",
      "from sklearn.svm import SVC\n",
      "from sklearn.ensemble import RandomForestClassifier, GradientBoostingClassifier\n",
      "from sklearn.naive_bayes import MultinomialNB\n",
      "from sklearn.metrics import classification_report, accuracy_score\n",
      "from sklearn.model_selection import train_test_split\n",
      "\n",
      "import xgboost as xgb\n",
      "from xgboost.sklearn import XGBClassifier"
     ],
     "language": "python",
     "metadata": {},
     "outputs": [],
     "prompt_number": 24
    },
    {
     "cell_type": "heading",
     "level": 1,
     "metadata": {},
     "source": [
      "Get the data "
     ]
    },
    {
     "cell_type": "code",
     "collapsed": false,
     "input": [
      "data = pd.read_pickle(\"data_interested_event_labels.pkl\")\n",
      "toastLabel = pd.read_pickle(\"toast_labels.pkl\")"
     ],
     "language": "python",
     "metadata": {},
     "outputs": [],
     "prompt_number": 16
    },
    {
     "cell_type": "code",
     "collapsed": false,
     "input": [
      "data.head()"
     ],
     "language": "python",
     "metadata": {},
     "outputs": [],
     "prompt_number": 17
    },
    {
     "cell_type": "code",
     "collapsed": false,
     "input": [
      "toastLabel.head()"
     ],
     "language": "python",
     "metadata": {},
     "outputs": [],
     "prompt_number": 18
    },
    {
     "cell_type": "code",
     "collapsed": false,
     "input": [
      "print data.shape\n",
      "print toastLabel.shape"
     ],
     "language": "python",
     "metadata": {},
     "outputs": [],
     "prompt_number": 19
    },
    {
     "cell_type": "code",
     "collapsed": true,
     "input": [
      "dataGrp = data[[\"MRN\", \"text_clean\"]].groupby(\"MRN\").agg(lambda x : \" \".join(x)).reset_index()"
     ],
     "language": "python",
     "metadata": {},
     "outputs": [],
     "prompt_number": 20
    },
    {
     "cell_type": "code",
     "collapsed": false,
     "input": [
      "dataGrp.shape"
     ],
     "language": "python",
     "metadata": {},
     "outputs": [],
     "prompt_number": 21
    },
    {
     "cell_type": "code",
     "collapsed": false,
     "input": [
      "corpus = dataGrp[\"text_clean\"].values\n",
      "ids  = dataGrp[\"MRN\"].values\n",
      "    \n",
      "print \"Length of corpus \",len(corpus)\n",
      "print \"Lenght of ids \",len(ids)\n",
      "\n",
      "toastLabelIndexed = toastLabel.set_index([\"MRN\"])\n",
      "    \n",
      "labels = toastLabelIndexed.loc[ids,:]\n",
      "print \"Length of labels \",len(labels)\n",
      "print \"=========Label distribution==========\"\n",
      "print labels[\"TOAST subtype\"].value_counts()\n",
      "labels = labels[\"TOAST subtype\"].values\n",
      "label_encoder = LabelEncoder().fit(labels)\n",
      "print label_encoder.classes_\n",
      "label_encoded = label_encoder.transform(labels)\n",
      "    \n",
      "with open(\"corpus_interested_events.pkl\", \"w\") as f:\n",
      "    pickle.dump(corpus, f)\n",
      "with open(\"label_interested_events.pkl\", \"w\") as f:\n",
      "    pickle.dump(label_encoded, f)"
     ],
     "language": "python",
     "metadata": {},
     "outputs": [],
     "prompt_number": 23
    },
    {
     "cell_type": "code",
     "collapsed": false,
     "input": [
      "X_train, X_test, y_train, y_test = train_test_split(corpus, label_encoded, test_size=0.2, stratify = label_encoded)"
     ],
     "language": "python",
     "metadata": {},
     "outputs": [],
     "prompt_number": 50
    },
    {
     "cell_type": "code",
     "collapsed": false,
     "input": [
      "np.bincount(y_train) / float(np.sum(np.bincount(y_train)))"
     ],
     "language": "python",
     "metadata": {},
     "outputs": [],
     "prompt_number": 51
    },
    {
     "cell_type": "code",
     "collapsed": false,
     "input": [
      "np.bincount(y_test) / float(np.sum(np.bincount(y_test)))"
     ],
     "language": "python",
     "metadata": {},
     "outputs": [],
     "prompt_number": 52
    },
    {
     "cell_type": "code",
     "collapsed": false,
     "input": [
      "with open(\"train_corpus_labels_full_reports.pkl\", \"wb\") as filein:\n",
      "    pickle.dump(X_train, filein)\n",
      "    pickle.dump(y_train, filein)\n",
      "\n",
      "with open(\"test_corpus_labels_full_reports.pkl\", \"wb\") as filein:\n",
      "    pickle.dump(X_test, filein)\n",
      "    pickle.dump(y_test, filein)"
     ],
     "language": "python",
     "metadata": {},
     "outputs": [],
     "prompt_number": 55
    },
    {
     "cell_type": "heading",
     "level": 3,
     "metadata": {},
     "source": [
      "Radiology reports "
     ]
    },
    {
     "cell_type": "code",
     "collapsed": true,
     "input": [
      "data_rad = pd.read_pickle(\"data_final_rad_reports.pkl\")\n",
      "toastLabel = pd.read_pickle(\"toast_labels.pkl\")"
     ],
     "language": "python",
     "metadata": {},
     "outputs": [],
     "prompt_number": 62
    },
    {
     "cell_type": "code",
     "collapsed": false,
     "input": [
      "print data_rad.shape\n",
      "print toastLabel.shape"
     ],
     "language": "python",
     "metadata": {},
     "outputs": [],
     "prompt_number": 63
    },
    {
     "cell_type": "code",
     "collapsed": true,
     "input": [
      "dataGrp_rad = data_rad[[\"MRN\", \"text_clean\"]].groupby(\"MRN\").agg(lambda x : \" \".join(x)).reset_index()"
     ],
     "language": "python",
     "metadata": {},
     "outputs": [],
     "prompt_number": 64
    },
    {
     "cell_type": "code",
     "collapsed": false,
     "input": [
      "dataGrp_rad.shape"
     ],
     "language": "python",
     "metadata": {},
     "outputs": [],
     "prompt_number": 65
    },
    {
     "cell_type": "code",
     "collapsed": false,
     "input": [
      "corpus_rad = dataGrp_rad[\"text_clean\"].values\n",
      "ids_rad  = dataGrp_rad[\"MRN\"].values\n",
      "    \n",
      "print \"Length of corpus \",len(corpus_rad)\n",
      "print \"Lenght of ids \",len(ids_rad)\n",
      "\n",
      "toastLabelIndexed = toastLabel.set_index([\"MRN\"])\n",
      "    \n",
      "labels_rad = toastLabelIndexed.loc[ids_rad,:]\n",
      "print \"Length of labels \",len(labels_rad)\n",
      "print \"=========Label distribution==========\"\n",
      "print labels_rad[\"TOAST subtype\"].value_counts()\n",
      "labels_rad = labels_rad[\"TOAST subtype\"].values\n",
      "label_encoder_rad = LabelEncoder().fit(labels_rad)\n",
      "print label_encoder_rad.classes_\n",
      "label_encoded_rad = label_encoder_rad.transform(labels_rad)\n",
      "    \n",
      "with open(\"corpus_rad.pkl\", \"w\") as f:\n",
      "    pickle.dump(corpus_rad, f)\n",
      "with open(\"label_rad.pkl\", \"w\") as f:\n",
      "    pickle.dump(label_encoded_rad, f)"
     ],
     "language": "python",
     "metadata": {},
     "outputs": [],
     "prompt_number": 66
    },
    {
     "cell_type": "code",
     "collapsed": true,
     "input": [
      "X_train, X_test, y_train, y_test = train_test_split(corpus_rad, label_encoded_rad, test_size=0.2, stratify = label_encoded_rad)"
     ],
     "language": "python",
     "metadata": {},
     "outputs": [],
     "prompt_number": 67
    },
    {
     "cell_type": "code",
     "collapsed": false,
     "input": [
      "print np.bincount(y_train) / float(np.sum(np.bincount(y_train)))\n",
      "print np.bincount(y_test) / float(np.sum(np.bincount(y_test)))"
     ],
     "language": "python",
     "metadata": {},
     "outputs": [],
     "prompt_number": 68
    },
    {
     "cell_type": "code",
     "collapsed": true,
     "input": [
      "with open(\"train_corpus_labels_rad_reports.pkl\", \"wb\") as filein:\n",
      "    pickle.dump(X_train, filein)\n",
      "    pickle.dump(y_train, filein)\n",
      "\n",
      "with open(\"test_corpus_labels_rad_reports.pkl\", \"wb\") as filein:\n",
      "    pickle.dump(X_test, filein)\n",
      "    pickle.dump(y_test, filein)"
     ],
     "language": "python",
     "metadata": {},
     "outputs": [],
     "prompt_number": 69
    },
    {
     "cell_type": "code",
     "collapsed": true,
     "input": [],
     "language": "python",
     "metadata": {},
     "outputs": [],
     "prompt_number": null
    }
   ],
   "metadata": {}
  }
 ]
}