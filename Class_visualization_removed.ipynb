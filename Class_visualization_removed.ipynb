{
 "metadata": {
  "anaconda-cloud": {},
  "kernelspec": {
   "display_name": "Python [Root]",
   "language": "python",
   "name": "Python [Root]"
  },
  "language_info": {
   "codemirror_mode": {
    "name": "ipython",
    "version": 2
   },
   "file_extension": ".py",
   "mimetype": "text/x-python",
   "name": "python",
   "nbconvert_exporter": "python",
   "pygments_lexer": "ipython2",
   "version": "2.7.12"
  },
  "name": ""
 },
 "nbformat": 3,
 "nbformat_minor": 0,
 "worksheets": [
  {
   "cells": [
    {
     "cell_type": "code",
     "collapsed": false,
     "input": [
      "import numpy as np\n",
      "import pandas as pd\n",
      "import os\n",
      "import cPickle as pickle\n",
      "from pprint import pprint\n",
      "from time import time\n",
      "import matplotlib.pyplot as plt\n",
      "%matplotlib inline\n",
      "from scipy import interp\n",
      "from itertools import cycle\n",
      "\n",
      "from sklearn.preprocessing import LabelEncoder\n",
      "from sklearn.pipeline import Pipeline\n",
      "from sklearn.model_selection import GridSearchCV, StratifiedKFold\n",
      "from sklearn.feature_extraction.text import CountVectorizer, TfidfVectorizer\n",
      "from sklearn.linear_model import LogisticRegression\n",
      "from sklearn.svm import LinearSVC\n",
      "from sklearn.svm import SVC\n",
      "from sklearn.ensemble import RandomForestClassifier, GradientBoostingClassifier, ExtraTreesClassifier\n",
      "from sklearn.naive_bayes import MultinomialNB\n",
      "from sklearn.metrics import classification_report, accuracy_score\n",
      "from sklearn.decomposition import TruncatedSVD\n",
      "from sklearn.feature_selection import SelectFromModel\n",
      "from sklearn.metrics import roc_auc_score, roc_curve, auc, confusion_matrix\n",
      "from sklearn.preprocessing import label_binarize\n",
      "from mlxtend.plotting import plot_decision_regions\n",
      "from matplotlib import offsetbox\n",
      "from sklearn import (manifold, datasets, decomposition, ensemble,\n",
      "                     discriminant_analysis, random_projection)\n",
      "\n",
      "import xgboost as xgb\n",
      "from xgboost.sklearn import XGBClassifier\n",
      "import seaborn as sns"
     ],
     "language": "python",
     "metadata": {},
     "outputs": [],
     "prompt_number": 1
    },
    {
     "cell_type": "code",
     "collapsed": false,
     "input": [
      "with open(\"../../data/train_corpus_labels_full_reports.pkl\", \"rb\") as filein:\n",
      "    train_corpus = pickle.load(filein)\n",
      "    labels = pickle.load(filein)\n",
      "\n",
      "print train_corpus.shape\n",
      "print labels.shape"
     ],
     "language": "python",
     "metadata": {},
     "outputs": [],
     "prompt_number": 2
    },
    {
     "cell_type": "code",
     "collapsed": false,
     "input": [
      "countVect = CountVectorizer(ngram_range=(1,3), binary=True, min_df=0.05, max_df=0.9, analyzer='word', stop_words=\"english\")"
     ],
     "language": "python",
     "metadata": {},
     "outputs": [],
     "prompt_number": 3
    },
    {
     "cell_type": "heading",
     "level": 3,
     "metadata": {},
     "source": [
      "Classifiers for feature selection "
     ]
    },
    {
     "cell_type": "code",
     "collapsed": false,
     "input": [
      "lr = LogisticRegression(penalty='l1')\n",
      "sfmLR = SelectFromModel(lr)"
     ],
     "language": "python",
     "metadata": {},
     "outputs": [],
     "prompt_number": 4
    },
    {
     "cell_type": "code",
     "collapsed": false,
     "input": [
      "X_count = countVect.fit_transform(train_corpus)"
     ],
     "language": "python",
     "metadata": {},
     "outputs": [],
     "prompt_number": 5
    },
    {
     "cell_type": "code",
     "collapsed": false,
     "input": [
      "X_count_feat = sfmLR.fit_transform(X_count, labels)"
     ],
     "language": "python",
     "metadata": {},
     "outputs": [],
     "prompt_number": 6
    },
    {
     "cell_type": "code",
     "collapsed": false,
     "input": [
      "X = X_count\n",
      "y = labels\n",
      "n_samples, n_features = X.shape\n",
      "n_neighbors = 30\n",
      "\n",
      "\n",
      "#----------------------------------------------------------------------\n",
      "# Scale and visualize the embedding vectors\n",
      "def plot_embedding(X, title=None):\n",
      "    x_min = np.min(X, 0)\n",
      "    x_max = np.max(X, 0)\n",
      "    \n",
      "    print \"Shape of X\", X.shape\n",
      "    print \"Min x \",x_min\n",
      "    print \"Max x \",x_max\n",
      "    X = (X - x_min) / (x_max - x_min)\n",
      "\n",
      "    plt.figure()\n",
      "    ax = plt.subplot(111)\n",
      "    for i in range(X.shape[0]):\n",
      "        plt.text(X[i, 0], X[i, 1], str(y[i]),\n",
      "                 color=plt.cm.Set1(y[i] / 10.),\n",
      "                 fontdict={'weight': 'bold', 'size': 9})\n",
      "    plt.xticks([]), plt.yticks([])\n",
      "    if title is not None:\n",
      "        plt.title(title)\n",
      "\n",
      "#----------------------------------------------------------------------\n",
      "# t-SNE embedding of the digits dataset\n",
      "print(\"Computing t-SNE embedding\")\n",
      "tsne = manifold.TSNE(n_components=2, init=\"pca\",random_state=0)\n",
      "t0 = time()\n",
      "X_tsne = tsne.fit_transform(X.toarray())\n",
      "print X_tsne.shape\n",
      "print \"Duration \", time() - t0"
     ],
     "language": "python",
     "metadata": {},
     "outputs": [],
     "prompt_number": 17
    },
    {
     "cell_type": "code",
     "collapsed": false,
     "input": [
      "plt.figure()\n",
      "colors = ['blue', 'orange', 'green', 'red', 'yellow']\n",
      "lw = 2\n",
      "target_names = [0,1,2,3,4]\n",
      "for color, i, target_name in zip(colors, [0, 1, 2, 3, 4], target_names):\n",
      "    plt.scatter(X_tsne[labels == i, 0], X_tsne[labels == i, 1], color=color, alpha=.8, lw=lw,\n",
      "                label=target_name)\n",
      "plt.legend(loc='best', shadow=False, scatterpoints=1)\n",
      "plt.title('tsne')"
     ],
     "language": "python",
     "metadata": {},
     "outputs": [],
     "prompt_number": 18
    },
    {
     "cell_type": "code",
     "collapsed": true,
     "input": [],
     "language": "python",
     "metadata": {},
     "outputs": [],
     "prompt_number": null
    }
   ],
   "metadata": {}
  }
 ]
}